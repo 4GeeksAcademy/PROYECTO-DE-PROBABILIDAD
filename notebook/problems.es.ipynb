{
 "cells": [
  {
   "cell_type": "markdown",
   "id": "a41f3622",
   "metadata": {},
   "source": [
    "# Ejercicios de probabilidad"
   ]
  },
  {
   "cell_type": "markdown",
   "id": "a6bdbd89",
   "metadata": {},
   "source": [
    "## Ejercicio 1 \n",
    "\n",
    "Dos dados se lanzan una vez y se observa el total obtenido. Usa una simulación para encontrar la probabilidad estimada de que la puntuación sea mayor a 7 o un número par. Una simulación es una repetición del mismo experimento multiples veces para observar su comportamiento:\n",
    "\n",
    "- Ejecuta el experimento 1000 veces (lanza 2 dados 1000 veces, y suma el número de ambos dados).\n",
    "- Lleva ua cuenta de los números y las veces que la suma fue mayor a 7 o un número par.\n",
    "- Divide el número del paso 2 entre el número de iteraciones(1000)."
   ]
  },
  {
   "cell_type": "code",
   "execution_count": 28,
   "id": "8939d892",
   "metadata": {},
   "outputs": [
    {
     "name": "stdout",
     "output_type": "stream",
     "text": [
      "Probabilidad estimada (suma>7 o suma par) con 1000 simulaciones: 0.772\n",
      "Todas las sumas obtenidas: [6, 9, 5, 6, 9, 7, 9, 13, 8, 9, 10, 8, 11, 8, 8, 8, 2, 8, 11, 12, 4, 2, 9, 9, 10, 8, 11, 13, 8, 7, 8, 5, 7, 5, 12, 5, 9, 7, 13, 11, 9, 7, 9, 3, 12, 8, 13, 13, 8, 11, 12, 3, 12, 3, 6, 7, 12, 6, 10, 10, 11, 9, 10, 9, 12, 10, 6, 7, 7, 6, 7, 10, 12, 10, 3, 10, 11, 8, 6, 4, 8, 7, 13, 6, 8, 10, 7, 6, 8, 5, 6, 13, 12, 8, 12, 6, 8, 7, 7, 8, 13, 10, 10, 2, 10, 7, 7, 8, 4, 6, 3, 11, 2, 4, 7, 8, 9, 12, 10, 9, 4, 5, 10, 7, 5, 10, 10, 7, 8, 11, 12, 2, 7, 4, 13, 9, 9, 13, 6, 3, 13, 9, 8, 9, 8, 6, 2, 11, 10, 9, 9, 3, 6, 4, 8, 9, 7, 10, 6, 11, 13, 8, 6, 8, 7, 8, 12, 11, 6, 6, 11, 8, 9, 2, 11, 11, 9, 13, 2, 11, 4, 8, 4, 6, 8, 8, 5, 14, 14, 11, 5, 9, 8, 4, 13, 12, 9, 13, 3, 4, 9, 7, 8, 5, 8, 9, 8, 2, 7, 9, 10, 8, 9, 11, 8, 6, 4, 11, 13, 13, 7, 9, 8, 7, 9, 4, 6, 11, 6, 7, 11, 9, 8, 11, 9, 6, 5, 11, 10, 6, 10, 8, 4, 13, 8, 11, 8, 3, 11, 3, 7, 9, 7, 11, 5, 6, 10, 5, 10, 10, 13, 8, 11, 7, 11, 14, 11, 6, 7, 6, 7, 14, 14, 7, 8, 4, 9, 10, 11, 9, 13, 13, 8, 10, 7, 7, 4, 8, 4, 9, 9, 7, 12, 6, 6, 10, 9, 8, 9, 9, 8, 9, 7, 9, 11, 2, 7, 10, 6, 6, 4, 8, 6, 9, 9, 6, 10, 13, 7, 11, 11, 12, 7, 7, 5, 4, 9, 9, 7, 10, 2, 10, 10, 9, 10, 6, 10, 5, 7, 7, 7, 10, 5, 8, 6, 9, 10, 6, 11, 8, 8, 10, 8, 6, 7, 9, 6, 4, 11, 6, 13, 2, 8, 6, 11, 8, 5, 12, 8, 9, 12, 7, 5, 9, 5, 5, 14, 10, 3, 13, 5, 4, 8, 7, 10, 5, 10, 5, 7, 7, 9, 8, 8, 11, 8, 4, 7, 12, 11, 10, 8, 10, 7, 7, 10, 4, 5, 8, 13, 10, 5, 9, 10, 5, 7, 6, 9, 9, 5, 10, 10, 3, 10, 2, 10, 14, 9, 10, 6, 5, 8, 11, 8, 13, 12, 7, 8, 7, 5, 5, 10, 7, 9, 10, 5, 12, 13, 12, 12, 10, 4, 10, 2, 3, 6, 8, 8, 13, 8, 10, 6, 10, 10, 5, 7, 3, 5, 6, 10, 11, 10, 9, 7, 9, 7, 2, 9, 11, 8, 11, 6, 5, 12, 11, 5, 8, 7, 8, 5, 11, 6, 12, 11, 10, 6, 11, 10, 8, 8, 7, 6, 7, 8, 4, 10, 14, 9, 9, 9, 5, 8, 7, 7, 4, 8, 7, 8, 8, 11, 5, 11, 3, 10, 5, 13, 8, 5, 5, 8, 12, 6, 10, 4, 8, 7, 13, 7, 2, 8, 3, 5, 8, 6, 6, 4, 9, 8, 7, 8, 12, 5, 4, 10, 2, 3, 13, 10, 11, 5, 10, 14, 4, 10, 9, 8, 9, 11, 4, 7, 11, 7, 7, 12, 12, 4, 8, 8, 8, 8, 11, 9, 9, 12, 8, 11, 6, 7, 7, 3, 13, 10, 9, 10, 10, 8, 10, 8, 13, 3, 8, 7, 13, 6, 7, 8, 10, 9, 10, 5, 3, 8, 10, 8, 4, 9, 6, 8, 13, 12, 4, 6, 9, 4, 3, 5, 7, 5, 8, 8, 5, 8, 6, 9, 14, 10, 4, 7, 11, 7, 10, 7, 9, 9, 9, 11, 13, 8, 4, 3, 3, 9, 8, 5, 12, 6, 7, 8, 2, 9, 10, 11, 7, 7, 8, 8, 4, 8, 8, 5, 13, 6, 9, 10, 3, 3, 10, 9, 5, 10, 11, 5, 3, 13, 8, 5, 5, 13, 4, 9, 7, 10, 2, 9, 5, 4, 6, 9, 8, 10, 8, 6, 4, 8, 14, 13, 4, 13, 11, 10, 13, 5, 8, 9, 13, 6, 13, 12, 10, 7, 4, 3, 12, 12, 7, 4, 11, 5, 8, 6, 11, 5, 9, 11, 11, 4, 10, 11, 9, 6, 4, 6, 9, 8, 2, 7, 7, 6, 6, 5, 2, 7, 6, 6, 11, 4, 8, 5, 7, 6, 12, 13, 4, 11, 9, 12, 11, 13, 13, 9, 13, 2, 8, 10, 6, 12, 8, 4, 7, 10, 5, 10, 11, 9, 6, 2, 12, 6, 11, 8, 11, 14, 10, 8, 7, 9, 8, 11, 2, 8, 9, 2, 12, 4, 5, 5, 10, 6, 9, 10, 7, 4, 5, 8, 7, 8, 3, 2, 9, 3, 8, 12, 10, 7, 10, 5, 12, 10, 12, 7, 9, 10, 9, 8, 9, 11, 11, 11, 9, 6, 8, 11, 11, 9, 9, 13, 12, 12, 14, 7, 7, 6, 14, 11, 6, 5, 11, 2, 11, 9, 8, 13, 5, 8, 8, 12, 6, 9, 11, 4, 8, 8, 5, 7, 12, 10, 10, 8, 12, 6, 7, 6, 10, 8, 6, 6, 4, 11, 9, 4, 6, 9, 5, 4, 8, 7, 3, 6, 8, 7, 7, 4, 5, 10, 8, 10, 9, 12, 2, 7, 4, 4, 6, 9, 7, 14, 10, 10, 7, 6, 9, 11, 8, 10, 7, 9, 9, 7, 10, 8, 7, 11, 7, 6, 5, 4, 7, 7, 11, 13, 7, 11, 7, 8, 3, 13, 6, 3, 7, 8, 8, 9, 11, 7, 6, 8, 8, 12, 8, 10, 3, 3, 6, 10, 10, 13, 5, 10, 9, 10, 9, 4, 12, 11, 10, 9, 7, 9, 8, 7, 10, 6, 5, 7, 13, 7, 12, 9, 13, 9, 10, 10, 11, 13, 5, 8, 8, 10, 7, 10, 4]\n"
     ]
    }
   ],
   "source": [
    "import random\n",
    "import numpy as np\n",
    "\n",
    "def simulacro_dados(n_lanzamientos=1000):\n",
    "    cuenta = 0\n",
    "    todas_sumas = []\n",
    "    for i in range(n_lanzamientos):\n",
    "        dado_1 = random.randint(1,7)\n",
    "        dado_2 = random.randint(1,7)\n",
    "        suma = dado_1 + dado_2\n",
    "        todas_sumas.append(suma)\n",
    "        if (suma > 7) or (suma % 2 == 0):\n",
    "            cuenta += 1\n",
    "    probabilidad = cuenta / n_lanzamientos\n",
    "    return probabilidad, todas_sumas\n",
    "\n",
    "#Ejecuto la simulación con 1000 lanzamientos\n",
    "probabilidad, todas_sumas = simulacro_dados(1000)\n",
    "print(f'Probabilidad estimada (suma>7 o suma par) con 1000 simulaciones: {probabilidad}')\n",
    "print(f'Todas las sumas obtenidas: {todas_sumas}')\n"
   ]
  },
  {
   "cell_type": "markdown",
   "id": "55732bca",
   "metadata": {},
   "source": [
    "## Ejercicio 2\n",
    "\n",
    "Una caja contiene 10 bolas blancas, 20 bolas rojas y 30 bolas verdes. Si tomamos 5 bolas de la caja reemplazándolas (tomando una bola, anotando el color y luego regresandola a la caja). Queremos saber la probabilidad de:\n",
    "\n",
    "1. Tomar 3 blancas y 2 rojas.\n",
    "2. Toas todas del mismo color.\n",
    "\n",
    "Ejecuta el experimento 1000 veces y calcula las probabilidades que mencionadas."
   ]
  },
  {
   "cell_type": "code",
   "execution_count": null,
   "id": "23244d20",
   "metadata": {},
   "outputs": [
    {
     "name": "stdout",
     "output_type": "stream",
     "text": [
      "Probabilidad estimada (3 blancas y 2 rojas): 0.006\n",
      "Probabilidad estimada (todas del mismo color): 0.029\n"
     ]
    }
   ],
   "source": [
    "import random\n",
    "from collections import Counter\n",
    "\n",
    "# Definir la caja: 10 blancas, 20 rojas, 30 verdes (total 60)\n",
    "caja_de_bolas = ['Blancas']*10 + ['Rojas']*20 + ['Verdes']*30\n",
    "\n",
    "def experimento_bolas(n_iter=1000, n_sacas=5):\n",
    "    cuenta_3b_2r = 0\n",
    "    cuenta_mismo_color = 0\n",
    "    for i in range(n_iter):\n",
    "        sacadas = [random.choice(caja_de_bolas) for _ in range(n_sacas)]\n",
    "        n_sacasb = sacadas.count('Blancas')\n",
    "        n_sacasr = sacadas.count('Rojas')\n",
    "        n_sacasv = sacadas.count('Verdes')\n",
    "        if n_sacasb == 3 and n_sacasr == 2:\n",
    "            cuenta_3b_2r += 1\n",
    "        if n_sacasb == 5 or n_sacasr == 5 or n_sacasv == 5:\n",
    "            cuenta_mismo_color += 1\n",
    "    return cuenta_3b_2r / n_iter, cuenta_mismo_color / n_iter\n",
    "\n",
    "prob_3b_2r, prob_mismo_color = experimento_bolas(1000, 5)\n",
    "print(f'Probabilidad estimada (3 blancas y 2 rojas): {prob_3b_2r}')\n",
    "print(f'Probabilidad estimada (todas del mismo color): {prob_mismo_color}')"
   ]
  }
 ],
 "metadata": {
  "kernelspec": {
   "display_name": "Python 3",
   "language": "python",
   "name": "python3"
  },
  "language_info": {
   "codemirror_mode": {
    "name": "ipython",
    "version": 3
   },
   "file_extension": ".py",
   "mimetype": "text/x-python",
   "name": "python",
   "nbconvert_exporter": "python",
   "pygments_lexer": "ipython3",
   "version": "3.11.4"
  }
 },
 "nbformat": 4,
 "nbformat_minor": 5
}
